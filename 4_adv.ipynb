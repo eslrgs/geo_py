{
 "cells": [
  {
   "cell_type": "code",
   "execution_count": null,
   "id": "ce0dd9d7-7d0b-4fea-9780-e3e17c923ab4",
   "metadata": {},
   "outputs": [],
   "source": [
    "import numpy as np\n",
    "import matplotlib.pyplot as plt\n",
    "import seaborn as sns\n",
    "import pandas as pd\n",
    "from scipy.signal import savgol_filter\n",
    "\n",
    "%config InlineBackend.figure_format='retina'"
   ]
  },
  {
   "cell_type": "code",
   "execution_count": null,
   "id": "c9c88e5a-4a83-4942-a7fe-3b33a74982bb",
   "metadata": {},
   "outputs": [],
   "source": [
    "df_x = pd.read_excel('data/velocity data_Euan workshop_RW/X velocity_raw data.xlsx')\n",
    "df_y = pd.read_excel('data/velocity data_Euan workshop_RW/Y velocity_raw data.xlsx')\n",
    "df_z = pd.read_excel('data/velocity data_Euan workshop_RW/Z velocity_raw data.xlsx')\n",
    "\n",
    "time = pd.read_excel('data/velocity data_Euan workshop_RW/velocity_timestamp.xlsx', names = ['time'])\n",
    "height = pd.read_excel('data/velocity data_Euan workshop_RW/velocity_ range (bin height).xlsx').T.reset_index()\n",
    "height.columns = ['height']"
   ]
  },
  {
   "cell_type": "code",
   "execution_count": null,
   "id": "2871b41c-d3cc-43b5-ad30-33b49f586759",
   "metadata": {},
   "outputs": [],
   "source": [
    "def process(df):\n",
    "    \n",
    "    df.columns = height.height.round(3)\n",
    "    df.index = time.time.round(3)\n",
    "\n",
    "    df = df.T[::-1]\n",
    "    df = df.apply(pd.to_numeric)\n",
    "    \n",
    "    return df\n",
    "    \n",
    "df_x = process(df_x)\n",
    "df_y = process(df_y)\n",
    "df_z = process(df_z)"
   ]
  },
  {
   "cell_type": "code",
   "execution_count": null,
   "id": "4f9a7353-f246-41c8-b080-550a51de0689",
   "metadata": {},
   "outputs": [],
   "source": [
    "fig, ax = plt.subplots(figsize = (11, 9), nrows = 3, ncols = 2) \n",
    "\n",
    "sns.heatmap(df_x, vmin = -0.05, vmax = 0.05, cmap = 'RdBu_r', ax = ax[0, 0])\n",
    "sns.heatmap(df_y, vmin = -0.05, vmax = 0.05, cmap = 'RdBu_r', ax = ax[1, 0])\n",
    "sns.heatmap(df_z, vmin = -0.05, vmax = 0.05, cmap = 'RdBu_r', ax = ax[2, 0])\n",
    "\n",
    "ax[0, 0].set(title = 'x velocity')\n",
    "ax[1, 0].set(title = 'y velocity')\n",
    "ax[2, 0].set(title = 'z velocity')\n",
    "\n",
    "ax[0, 0].vlines(4000, 0, 100, lw = 3, color = 'black')\n",
    "ax[1, 0].vlines(4000, 0, 100, lw = 3, color = 'black')\n",
    "ax[2, 0].vlines(4000, 0, 100, lw = 3, color = 'black')\n",
    "\n",
    "##############\n",
    "\n",
    "ax[0, 1].plot(df_x.iloc[:, 4000], df_x.index, color = 'black', lw = 1)\n",
    "ax[1, 1].plot(df_y.iloc[:, 4000], df_y.index, color = 'black', lw = 1)\n",
    "ax[2, 1].plot(df_z.iloc[:, 4000], df_z.index, color = 'black', lw = 1)\n",
    "\n",
    "smoothed_x = savgol_filter(df_x.iloc[:, 4000], 9, 3)\n",
    "smoothed_y = savgol_filter(df_y.iloc[:, 4000], 9, 3)\n",
    "smoothed_z = savgol_filter(df_z.iloc[:, 4000], 9, 3)\n",
    "\n",
    "ax[0, 1].plot(smoothed_x, df_x.index, color = 'tab:blue', label = 'smoothed', lw = 3)\n",
    "ax[1, 1].plot(smoothed_y, df_y.index, color = 'tab:blue', label = 'smoothed', lw = 3)\n",
    "ax[2, 1].plot(smoothed_z, df_z.index, color = 'tab:blue', label = 'smoothed', lw = 3)\n",
    "\n",
    "ax[0, 1].legend(loc = 'upper right')\n",
    "ax[1, 1].legend(loc = 'upper right')\n",
    "ax[2, 1].legend(loc = 'upper right')\n",
    "\n",
    "ax[0, 1].set(xlabel = 'velocity', ylabel = 'height', xlim = [-0.009, 0.08])\n",
    "ax[1, 1].set(xlabel = 'velocity', ylabel = 'height', xlim = [-0.009, 0.08])\n",
    "ax[2, 1].set(xlabel = 'velocity', ylabel = 'height', xlim = [-0.009, 0.08])\n",
    "\n",
    "plt.tight_layout()"
   ]
  },
  {
   "cell_type": "code",
   "execution_count": null,
   "id": "6fb5723f-dd2c-4a8b-96d3-fbd1a31432b6",
   "metadata": {},
   "outputs": [],
   "source": []
  }
 ],
 "metadata": {
  "kernelspec": {
   "display_name": "general",
   "language": "python",
   "name": "general"
  },
  "language_info": {
   "codemirror_mode": {
    "name": "ipython",
    "version": 3
   },
   "file_extension": ".py",
   "mimetype": "text/x-python",
   "name": "python",
   "nbconvert_exporter": "python",
   "pygments_lexer": "ipython3",
   "version": "3.7.12"
  }
 },
 "nbformat": 4,
 "nbformat_minor": 5
}
