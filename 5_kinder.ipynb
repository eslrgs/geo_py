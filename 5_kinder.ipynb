{
 "cells": [
  {
   "cell_type": "markdown",
   "metadata": {},
   "source": [
    "## Kinder Delta"
   ]
  },
  {
   "cell_type": "markdown",
   "metadata": {},
   "source": [
    "### Load packages"
   ]
  },
  {
   "cell_type": "code",
   "execution_count": 1,
   "metadata": {},
   "outputs": [
    {
     "name": "stderr",
     "output_type": "stream",
     "text": [
      "/opt/anaconda3/envs/general/lib/python3.7/site-packages/geopandas/_compat.py:115: UserWarning: The Shapely GEOS version (3.8.0-CAPI-1.13.1 ) is incompatible with the GEOS version PyGEOS was compiled with (3.9.1-CAPI-1.14.2). Conversions between both will be slow.\n",
      "  shapely_geos_version, geos_capi_version_string\n"
     ]
    }
   ],
   "source": [
    "import numpy as np\n",
    "import pandas as pd\n",
    "import matplotlib.pyplot as plt\n",
    "import glob\n",
    "import geopandas as gpd\n",
    "import warnings\n",
    "\n",
    "from shapely.geometry import Point\n",
    "from scipy import stats\n",
    "\n",
    "warnings.filterwarnings('ignore')\n",
    "\n",
    "%config InlineBackend.figure_formats = ['retina']\n"
   ]
  },
  {
   "cell_type": "markdown",
   "metadata": {},
   "source": [
    "### Load interpretations, convert to geodataframe, calculate distances"
   ]
  },
  {
   "cell_type": "code",
   "execution_count": 2,
   "metadata": {},
   "outputs": [],
   "source": [
    "all_files = glob.glob('data/foresets/*.asc')\n",
    "\n",
    "lines = []\n",
    "\n",
    "for file in all_files:\n",
    "    \n",
    "    df = pd.read_csv(file, delimiter = '\\t', names = ['X', 'Y', 'Z'])\n",
    "    df = df.sort_values(by = 'Z', ascending = False, ignore_index = True)\n",
    "    \n",
    "    geometry = [Point(xy) for xy in zip(df.X, df.Y)]\n",
    "    df['geometry'] = geometry\n",
    "    df = df.set_geometry('geometry')\n",
    "    df.crs = {'init': 'epsg:27700'}\n",
    "    df.to_crs('EPSG:27700', inplace = True)\n",
    "    \n",
    "    df['dist'] = np.cumsum(df.distance(df.shift()))\n",
    "    df.replace(np.nan, 0, inplace = True)\n",
    "    \n",
    "    lines.append(df)"
   ]
  },
  {
   "cell_type": "markdown",
   "metadata": {},
   "source": [
    "### Plot "
   ]
  },
  {
   "cell_type": "code",
   "execution_count": null,
   "metadata": {},
   "outputs": [],
   "source": [
    "fig, ax = plt.subplots(figsize = (6, 7), nrows = 3)\n",
    "\n",
    "degrees_list = []\n",
    "xmax_list = []\n",
    "\n",
    "for i in range(len(lines)):\n",
    "    \n",
    "    df = lines[i]\n",
    "    \n",
    "    ##########\n",
    "    \n",
    "    ax[0].plot(df.dist, df.Z, c = 'k', lw = 1)\n",
    "    ax[0].set(xlim = (0, 140), xlabel = 'distance [m]', ylim = (490, 540),  \n",
    "              ylabel = 'elevation [m]', title = f'Kinder Delta foresets [n = {len(lines)}]')\n",
    "    \n",
    "    reg = stats.linregress(df.dist, df.Z)\n",
    "    ax[0].plot(df.dist, reg.slope * df.dist + reg.intercept, c = 'k', linestyle = 'dashed', lw = 1)\n",
    "\n",
    "    ##########\n",
    "\n",
    "    norm_z = (df.Z - min(df.Z)) / ((max(df.Z)) - min(df.Z))\n",
    "    norm_dist = (df.dist - min(df.dist)) / ((max(df.dist)) - min(df.dist))\n",
    "\n",
    "    ax[1].plot(norm_dist, norm_z, c = 'k', lw = 1)\n",
    "    ax[1].set(xlim = (0, 1), ylim = (0, 1), xlabel = 'distance [normalised]', \n",
    "              ylabel = 'elevation [normalised]')\n",
    "\n",
    "    ##########\n",
    "\n",
    "    angle = np.arctan(reg.slope) # slope angle in radians\n",
    "    degrees = np.rad2deg(angle) # slope angle in degrees\n",
    "        \n",
    "    ax[2].scatter(df.X.max(), y = degrees * -1, color = 'w', edgecolor = 'k', s = 20)\n",
    "    ax[2].set(ylim = (8, 20), xlim = (5700, 5000), xlabel = '~ dip distance [m]', ylabel = 'foreset angle [°]')\n",
    "\n",
    "plt.tight_layout()"
   ]
  },
  {
   "cell_type": "markdown",
   "metadata": {},
   "source": [
    "### Plot 3D"
   ]
  },
  {
   "cell_type": "code",
   "execution_count": null,
   "metadata": {},
   "outputs": [],
   "source": [
    "fig = plt.figure(figsize = (14, 9))\n",
    "ax = fig.add_subplot(111, projection='3d')\n",
    "\n",
    "for dfs in lines:\n",
    "\n",
    "    ax.plot_trisurf(dfs.X, dfs.Y, dfs.Z, color='white', edgecolors='grey', alpha=0.5)\n",
    "    ax.scatter(dfs.X, dfs.Y, dfs.Z, c='red')\n",
    "    ax.set_xlim(5700, 5000)\n",
    "    ax.set_ylim(7960, 7860)\n",
    "    ax.view_init(elev=20., azim=30)\n",
    "\n"
   ]
  },
  {
   "cell_type": "markdown",
   "metadata": {},
   "source": [
    "### Shapefile "
   ]
  },
  {
   "cell_type": "code",
   "execution_count": null,
   "metadata": {},
   "outputs": [],
   "source": [
    "geo_map = gpd.read_file('shp/kinder_map.shp')\n",
    "geo_map.to_crs(epsg = 27700, inplace = True)\n",
    "geo = geo_map[geo_map.LEX_D.str.contains('KINDERSCOUT')]\n",
    "\n",
    "fig, ax = plt.subplots()\n",
    "\n",
    "geo.plot(ax = ax)\n",
    "\n",
    "# ax.set(xlim = (lines[10].geometry.x.min() - 200, lines[10].geometry.x.max() + 300),\n",
    "#                ylim = (lines[10].geometry.y.min() - 100, lines[10].geometry.y.max() + 100))"
   ]
  }
 ],
 "metadata": {
  "kernelspec": {
   "display_name": "general",
   "language": "python",
   "name": "general"
  },
  "language_info": {
   "codemirror_mode": {
    "name": "ipython",
    "version": 3
   },
   "file_extension": ".py",
   "mimetype": "text/x-python",
   "name": "python",
   "nbconvert_exporter": "python",
   "pygments_lexer": "ipython3",
   "version": "3.7.12"
  }
 },
 "nbformat": 4,
 "nbformat_minor": 4
}
