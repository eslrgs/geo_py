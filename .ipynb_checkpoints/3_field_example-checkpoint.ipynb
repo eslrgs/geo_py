{
 "cells": [
  {
   "cell_type": "markdown",
   "metadata": {},
   "source": [
    "\n",
    "<img style=\"float: right;\" src=\"data/earth.png\" width= \"100\" height = \"100\">\n",
    "\n",
    "\n",
    "# 3. Fieldwork example\n",
    "\n",
    "\n",
    "\n",
    "\n",
    "_____________"
   ]
  },
  {
   "cell_type": "markdown",
   "metadata": {},
   "source": [
    "### 1. Import the Python packages we are going to use"
   ]
  },
  {
   "cell_type": "code",
   "execution_count": null,
   "metadata": {
    "scrolled": true
   },
   "outputs": [],
   "source": [
    "import numpy as np\n",
    "import pandas as pd\n",
    "import matplotlib.pyplot as plt\n",
    "import seaborn as sns\n",
    "from scipy import stats\n",
    "%config InlineBackend.figure_format='retina'"
   ]
  },
  {
   "cell_type": "markdown",
   "metadata": {},
   "source": [
    "### 2) Load our field data from Excel using Pandas"
   ]
  },
  {
   "cell_type": "code",
   "execution_count": null,
   "metadata": {
    "scrolled": true
   },
   "outputs": [],
   "source": [
    "df = pd.read_excel('data/data.xlsx') "
   ]
  },
  {
   "cell_type": "code",
   "execution_count": null,
   "metadata": {},
   "outputs": [],
   "source": [
    "df"
   ]
  },
  {
   "cell_type": "markdown",
   "metadata": {},
   "source": [
    "___\n",
    "Exercise: 1) find the mean bed thickness and the mean paleocurrent (using .describe or .mean), 2) plot the bed numbers to check the data looks ok (using df.bed_number and plt.plot)"
   ]
  },
  {
   "cell_type": "code",
   "execution_count": null,
   "metadata": {},
   "outputs": [],
   "source": []
  },
  {
   "cell_type": "markdown",
   "metadata": {},
   "source": [
    "___\n",
    "BONUS: try running sns.pairplot(df)"
   ]
  },
  {
   "cell_type": "code",
   "execution_count": null,
   "metadata": {},
   "outputs": [],
   "source": []
  },
  {
   "cell_type": "markdown",
   "metadata": {},
   "source": [
    "### 3) Plot  data using the package 'Matplotlib'"
   ]
  },
  {
   "cell_type": "code",
   "execution_count": null,
   "metadata": {
    "scrolled": true
   },
   "outputs": [],
   "source": [
    "fig, ax = plt.subplots(figsize = (6, 8), ncols = 2) # makes a figure with a number of subplots\n",
    "\n",
    "ax[0].plot(df.bed_thickness, df.bed_number, color = 'black') # plots data in first subplot\n",
    "ax[0].set(xlabel = 'bed thickness (cm)', ylabel = 'bed number (n)') # sets axis labels\n",
    "\n",
    "ax[1].plot(df.d18O, df.bed_number, color = 'tab:blue') # plots data in second subplot\n",
    "ax[1].set(xlabel = 'd18O', ylabel = 'bed number (n)') # sets axis labels\n",
    "\n",
    "plt.tight_layout() # keeps plots seperate"
   ]
  },
  {
   "cell_type": "markdown",
   "metadata": {},
   "source": [
    "_____\n",
    "Exercise: 1) add an extra subplot column, and plot grain size versus bed number in that column"
   ]
  },
  {
   "cell_type": "code",
   "execution_count": null,
   "metadata": {},
   "outputs": [],
   "source": []
  },
  {
   "cell_type": "markdown",
   "metadata": {},
   "source": [
    "### 4) The data looks like it is correlated, can we quantify this?"
   ]
  },
  {
   "cell_type": "code",
   "execution_count": null,
   "metadata": {
    "scrolled": true
   },
   "outputs": [],
   "source": [
    "stats.spearmanr(df.bed_thickness, df.grainsize)"
   ]
  },
  {
   "cell_type": "markdown",
   "metadata": {},
   "source": [
    "_____\n",
    "Exercise: Find the Spearman correlation between bed thickness and height. Save this as a variable."
   ]
  },
  {
   "cell_type": "code",
   "execution_count": null,
   "metadata": {
    "scrolled": true
   },
   "outputs": [],
   "source": []
  },
  {
   "cell_type": "markdown",
   "metadata": {},
   "source": [
    "### 5) Now let's see if each formation is different..."
   ]
  },
  {
   "cell_type": "code",
   "execution_count": null,
   "metadata": {
    "scrolled": true
   },
   "outputs": [],
   "source": [
    "sns.displot(kind = 'kde', data = df, x = df.bed_thickness, hue = df.formation)"
   ]
  },
  {
   "cell_type": "markdown",
   "metadata": {},
   "source": [
    "____\n",
    "Exercise: trying changing the 'kind' variable in sns.displot and make some new plots. "
   ]
  },
  {
   "cell_type": "code",
   "execution_count": null,
   "metadata": {},
   "outputs": [],
   "source": []
  },
  {
   "cell_type": "markdown",
   "metadata": {},
   "source": [
    "_____\n",
    "BONUS: try running sns.pairplot(df, hue = 'formation')"
   ]
  },
  {
   "cell_type": "code",
   "execution_count": null,
   "metadata": {},
   "outputs": [],
   "source": []
  },
  {
   "cell_type": "markdown",
   "metadata": {},
   "source": [
    "### 6) Plotting structural data\n",
    "Example modified from https://github.com/agile-geoscience/xlines/blob/master/notebooks/16_Stereonets_with_mplstereonet.ipynb and https://agilescientific.com/blog/category/X+Lines"
   ]
  },
  {
   "cell_type": "code",
   "execution_count": null,
   "metadata": {},
   "outputs": [],
   "source": [
    "import mplstereonet as mpl\n",
    "\n",
    "# Create a stereonet with grid lines.\n",
    "fig, ax = mpl.subplots(figsize = (9, 6))\n",
    "ax.grid(color = 'k', alpha = 0.2)\n",
    "\n",
    "# Loop over bedding and plot each in its own colour\n",
    "fms = {'Manchester Formation': 'tab:blue', 'Sheffield Formation': 'tab:red'}\n",
    "\n",
    "for i, (fm, grp) in enumerate(df.groupby('formation')):\n",
    "\n",
    "    strike, dip = grp.strike, grp.dip\n",
    "    ax.plane(strike, dip, color = fms[fm], linewidth = 1, alpha = 0.5)\n",
    "    ax.pole(strike, dip, color = fms[fm], markersize = 4, alpha = 0.5)\n",
    "    note = f\"{fm} (N = {dip.size})\\nMean dip: {dip.mean():.1f}\\nMean strike: {strike.mean():.1f}\"\n",
    "    ax.annotate(note, xy = (5 * 72, i * 45), color = fms[fm], xycoords='axes points')\n",
    "\n",
    "ax.annotate('modified from Agile Geoscience:\\nStereonets with mplstereonet',\n",
    "           xy = (5 * 72, i * 300), xycoords='axes points')"
   ]
  },
  {
   "cell_type": "code",
   "execution_count": null,
   "metadata": {},
   "outputs": [],
   "source": []
  }
 ],
 "metadata": {
  "kernelspec": {
   "display_name": "general",
   "language": "python",
   "name": "general"
  },
  "language_info": {
   "codemirror_mode": {
    "name": "ipython",
    "version": 3
   },
   "file_extension": ".py",
   "mimetype": "text/x-python",
   "name": "python",
   "nbconvert_exporter": "python",
   "pygments_lexer": "ipython3",
   "version": "3.7.12"
  }
 },
 "nbformat": 4,
 "nbformat_minor": 4
}
