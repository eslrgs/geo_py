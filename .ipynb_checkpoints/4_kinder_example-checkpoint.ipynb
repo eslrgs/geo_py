{
 "cells": [
  {
   "cell_type": "markdown",
   "id": "6f078b65",
   "metadata": {},
   "source": [
    "\n",
    "<img style=\"float: right;\" src=\"data/earth.png\" width= \"100\" height = \"100\">\n",
    "\n",
    "\n",
    "# 4. Kinderscout Delta example [work in progress]\n",
    "\n",
    "\n",
    "\n",
    "\n",
    "_____________"
   ]
  },
  {
   "cell_type": "markdown",
   "id": "d5a527c7",
   "metadata": {},
   "source": [
    "### 1. Import packages"
   ]
  },
  {
   "cell_type": "code",
   "execution_count": null,
   "id": "8cb802ed",
   "metadata": {},
   "outputs": [],
   "source": [
    "import numpy as np\n",
    "import matplotlib.pyplot as plt\n",
    "import pandas as pd\n",
    "import geopandas as gpd\n",
    "import matplotlib as mp\n",
    "import mplstereonet as mpl\n",
    "from shapely.geometry import Point\n",
    "from matplotlib.markers import MarkerStyle\n",
    "\n",
    "pd.options.mode.chained_assignment = None  \n",
    "%config InlineBackend.figure_format='retina'"
   ]
  },
  {
   "cell_type": "markdown",
   "id": "c2a53f0f",
   "metadata": {},
   "source": [
    "### 2. Load shapefile as geodataframe, assign coordinate system and filter by Formation"
   ]
  },
  {
   "cell_type": "code",
   "execution_count": null,
   "id": "a9baea28",
   "metadata": {
    "scrolled": false
   },
   "outputs": [],
   "source": [
    "geo_map = gpd.read_file('shp/kinder_map.shp')\n",
    "geo_map.to_crs(epsg = 27700, inplace = True)\n",
    "kinder = geo_map[(geo_map.LEX_D == 'KINDERSCOUT GRIT') | (geo_map.LEX_D == 'HEBDEN FORMATION')]"
   ]
  },
  {
   "cell_type": "markdown",
   "id": "17902d41",
   "metadata": {},
   "source": [
    "### 3. Load CSV as dataframe and convert to geodataframe"
   ]
  },
  {
   "cell_type": "code",
   "execution_count": null,
   "id": "e12f1d0e",
   "metadata": {},
   "outputs": [],
   "source": [
    "beds = pd.read_csv('data/upper_beds.csv')\n",
    "\n",
    "def prep(data):\n",
    "\n",
    "    data.columns = data.columns.str.lstrip()\n",
    "    geometry = [Point(xy) for xy in zip(data.longitude, data.latitude)]\n",
    "\n",
    "    data['geometry'] = geometry\n",
    "    data = data.set_geometry('geometry')\n",
    "    data.crs = {'init': 'epsg:4326'}\n",
    "    data.to_crs(epsg = 27700, inplace = True)\n",
    "    data['dist'] = np.cumsum(data.distance(data.shift()))\n",
    "    \n",
    "    return data\n",
    "\n",
    "df = prep(beds)"
   ]
  },
  {
   "cell_type": "markdown",
   "id": "9c16c2d7",
   "metadata": {},
   "source": [
    "### 4. Filter data by sequences at known distances along outcrop"
   ]
  },
  {
   "cell_type": "code",
   "execution_count": null,
   "id": "8fee3060",
   "metadata": {},
   "outputs": [],
   "source": [
    "lower = df[df.dist < 1200]\n",
    "upper = df[df.dist >= 1200]"
   ]
  },
  {
   "cell_type": "markdown",
   "id": "760667c7",
   "metadata": {},
   "source": [
    "### 5. Plot stereonet of bedding"
   ]
  },
  {
   "cell_type": "code",
   "execution_count": null,
   "id": "f1cedcf9",
   "metadata": {},
   "outputs": [],
   "source": [
    "fig, ax = mpl.subplots(figsize = (9, 6))\n",
    "ax.grid(color = 'k', alpha = 0.2)\n",
    "\n",
    "strike1, dip1, azi1 = lower.strike, lower.dip, lower.dipAzimuth\n",
    "strike2, dip2, azi2 = upper.strike, upper.dip, upper.dipAzimuth\n",
    "\n",
    "ax.plane(strike1, dip1, color = 'tab:red', linewidth = 2, alpha = 0.5)\n",
    "ax.pole(strike1, dip1, color = 'tab:red',  marker = 'o', markersize = 5, alpha = 1)\n",
    "note = f\"Lower\\nN = {dip1.size}\\nMean dip: {azi1.mean():.0f}\\nMean strike: {strike1.mean():.0f}\"\n",
    "ax.annotate(note, xy = (5 * 72, 45), color = 'tab:red', xycoords='axes points')\n",
    "\n",
    "ax.plane(strike2, dip2, color = 'tab:blue', linewidth = 2, alpha = 0.5)\n",
    "ax.pole(strike2, dip2, color = 'tab:blue',  marker = 'o', markersize = 5, alpha = 1)\n",
    "note = f\"Upper\\nN = {dip2.size}\\nMean dip: {azi2.mean():.0f}\\nMean strike: {strike2.mean():.0f}\"\n",
    "ax.annotate(note, xy = (5 * 72, 100), color = 'tab:blue', xycoords='axes points')"
   ]
  },
  {
   "cell_type": "markdown",
   "id": "6be29d43",
   "metadata": {},
   "source": [
    "### 5. Shift points to plot dip ticks"
   ]
  },
  {
   "cell_type": "code",
   "execution_count": null,
   "id": "9a0c6dc7",
   "metadata": {},
   "outputs": [],
   "source": [
    "def dip_ticks(data):\n",
    "    \n",
    "    data_copy = data.copy()\n",
    "\n",
    "    dx = 5.0 * (np.cos(np.deg2rad(-90))) \n",
    "    dy = 5.0 * (np.sin(np.deg2rad(-90)))\n",
    "\n",
    "    data_copy['x_shifted'] = data_copy.geometry.x + dx\n",
    "    data_copy['y_shifted'] = data_copy.geometry.y + dy\n",
    "\n",
    "    geometry = [Point(xy) for xy in zip(data_copy.x_shifted, data_copy.y_shifted)]\n",
    "\n",
    "    data_copy['geometry_shifted'] = geometry\n",
    "    data_copy = data_copy.set_geometry('geometry_shifted')\n",
    "    \n",
    "    return data_copy\n",
    "\n",
    "upper_dips = dip_ticks(upper)\n",
    "lower_dips = dip_ticks(lower)"
   ]
  },
  {
   "cell_type": "markdown",
   "id": "6d8eb4f9",
   "metadata": {},
   "source": [
    "### 5. Plot bedding on geological map"
   ]
  },
  {
   "cell_type": "code",
   "execution_count": null,
   "id": "efb1f81c",
   "metadata": {},
   "outputs": [],
   "source": [
    "def strike_dip(strike_data, dip_data, color, ax):\n",
    "    \n",
    "    ax = ax\n",
    "\n",
    "    for index, row in strike_data.iterrows():\n",
    "\n",
    "        strike_angle = row.strike\n",
    "        t = mp.markers.MarkerStyle(marker='|')\n",
    "        t._transform = t.get_transform().rotate_deg(strike_angle*-1)\n",
    "        strike_data.loc[[index]].plot(c = color, marker = t, markersize = 300, ax = ax)\n",
    "\n",
    "        dip_angle = row.strike\n",
    "        t = mp.markers.MarkerStyle(marker='|')\n",
    "        t._transform = t.get_transform().rotate_deg(dip_angle*-1 + 90)\n",
    "        dip_data.loc[[index]].plot(color = color, marker= t, markersize = 20, ax = ax)\n",
    "        \n",
    "fig, ax = plt.subplots(figsize = (15, 6))\n",
    "\n",
    "cmap = mp.colors.ListedColormap(['grey', 'tab:orange'])\n",
    "\n",
    "kinder.plot(column = 'LEX_D', cmap = cmap, legend = True, \n",
    "            legend_kwds = {'loc':'lower right'}, alpha = 0.5, ax = ax)\n",
    "\n",
    "strike_dip(lower, lower_dips, 'tab:red', ax)\n",
    "strike_dip(upper, upper_dips, 'tab:blue', ax)\n",
    "\n",
    "ax.set(xlim = (df.geometry.x.min() - 200, df.geometry.x.max() + 300),\n",
    "           ylim = (df.geometry.y.min() - 100, df.geometry.y.max() + 100),\n",
    "      title = 'Kinderscout Delta Structure')"
   ]
  },
  {
   "cell_type": "markdown",
   "id": "2d77b6c5",
   "metadata": {},
   "source": [
    "## Cuts"
   ]
  },
  {
   "cell_type": "code",
   "execution_count": null,
   "id": "0c7327b5",
   "metadata": {},
   "outputs": [],
   "source": [
    "# fig, ax = plt.subplots(figsize = (15, 6))\n",
    "\n",
    "# kinder.plot(alpha = 0.5, color = 'tab:orange', ax = ax)\n",
    "\n",
    "# def strike_dip(strike_data, dip_data):\n",
    "\n",
    "# for index, row in strike_data.iterrows():\n",
    "\n",
    "#     strike_angle = row.strike\n",
    "#     t = mp.markers.MarkerStyle(marker='|')\n",
    "#     t._transform = t.get_transform().rotate_deg(strike_angle*-1)\n",
    "#     strike_data.loc[[index]].plot(c = 'tab:red', marker = t, markersize = 300, ax = ax)\n",
    "    \n",
    "#     dip_angle = row.strike\n",
    "#     t = mp.markers.MarkerStyle(marker='|')\n",
    "#     t._transform = t.get_transform().rotate_deg(dip_angle*-1 + 90)\n",
    "#     dip_data.loc[[index]].plot(color = 'tab:red', marker= t, markersize = 20, ax = ax)\n",
    "\n",
    "# for index, row in upper.iterrows():\n",
    "    \n",
    "#     strike_angle = row.strike\n",
    "#     t = mp.markers.MarkerStyle(marker='|')    \n",
    "#     t._transform = t.get_transform().rotate_deg(strike_angle*-1)\n",
    "#     upper.loc[[index]].plot(color = 'tab:blue', marker = t, markersize = 300, ax = ax)\n",
    "\n",
    "#     dip_angle = row.strike\n",
    "#     t = mp.markers.MarkerStyle(marker='|')\n",
    "#     t._transform = t.get_transform().rotate_deg(dip_angle*-1 + 90)\n",
    "#     upper_dips.loc[[index]].plot(color = 'tab:blue', marker= t, markersize = 20, ax = ax)\n",
    "\n",
    "# ax.set(xlim = (df.geometry.x.min() - 200, df.geometry.x.max() + 300),\n",
    "#            ylim = (df.geometry.y.min() - 100, df.geometry.y.max() + 100))"
   ]
  },
  {
   "cell_type": "code",
   "execution_count": null,
   "id": "d985aa3a",
   "metadata": {},
   "outputs": [],
   "source": [
    "# upper = df[df.dist >= 1200]\n",
    "\n",
    "# dx = 0.0 * np.cos(np.deg2rad(180))  \n",
    "# dy = 10.0 * np.sin(np.deg2rad(90))\n",
    "# upper['x_shifted'] = upper.geometry.x - dx\n",
    "# upper['y_shifted'] = upper.geometry.y - dy\n",
    "\n",
    "# geometry = [Point(xy) for xy in zip(upper.x_shifted, upper.y_shifted)]\n",
    "\n",
    "# upper['geometry_shifted'] = geometry"
   ]
  },
  {
   "cell_type": "code",
   "execution_count": null,
   "id": "fcf93948",
   "metadata": {},
   "outputs": [],
   "source": []
  }
 ],
 "metadata": {
  "kernelspec": {
   "display_name": "general",
   "language": "python",
   "name": "general"
  },
  "language_info": {
   "codemirror_mode": {
    "name": "ipython",
    "version": 3
   },
   "file_extension": ".py",
   "mimetype": "text/x-python",
   "name": "python",
   "nbconvert_exporter": "python",
   "pygments_lexer": "ipython3",
   "version": "3.7.7"
  }
 },
 "nbformat": 4,
 "nbformat_minor": 5
}
