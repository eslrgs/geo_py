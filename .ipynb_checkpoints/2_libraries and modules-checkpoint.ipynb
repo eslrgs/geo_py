{
 "cells": [
  {
   "cell_type": "markdown",
   "metadata": {},
   "source": [
    "\n",
    "<img style=\"float: right;\" src=\"data/earth.png\" width= \"100\" height = \"100\">\n",
    "\n",
    "\n",
    "# Libraries and modules\n",
    "\n",
    "\n",
    "\n",
    "\n",
    "_____________"
   ]
  },
  {
   "cell_type": "markdown",
   "metadata": {},
   "source": [
    "### 1. Numpy"
   ]
  },
  {
   "cell_type": "code",
   "execution_count": null,
   "metadata": {
    "scrolled": true
   },
   "outputs": [],
   "source": [
    "import numpy as np # imports the numpy library and gives it the 'shortcut' name 'np'"
   ]
  },
  {
   "cell_type": "code",
   "execution_count": null,
   "metadata": {},
   "outputs": [],
   "source": [
    "a = np.array([1, 2, 3, 2, 3, 4, 3, 4, 5, 6]) # makes a numpy array from a list\n",
    "b = np.array([[7, 2, 10], [2, 7, 4], [4, 9, 8]]) # makes a nested array\n",
    "\n",
    "a[6]\n",
    "a[a > 3]\n",
    "b[0]"
   ]
  },
  {
   "cell_type": "code",
   "execution_count": null,
   "metadata": {
    "scrolled": true
   },
   "outputs": [],
   "source": [
    "my_list = [0, 2, 3, 5, 6, 6] # makes a list\n",
    "my_array = np.array(my_list) # makes an array from a list"
   ]
  },
  {
   "cell_type": "code",
   "execution_count": null,
   "metadata": {},
   "outputs": [],
   "source": [
    "arr1 = np.arange(start = 0, stop = 10, step = 0.01) # returns a range of numbers at a particular step-size\n",
    "\n",
    "arr2 = np.linspace(start = 0, stop = 10, num = 10) # return evenly spaced numbers over a specified interval\n",
    "\n",
    "randoms = np.random.uniform(low = 10, high = 100, size = 100) # return random numbers over a specified interval\n",
    "\n",
    "shaped = np.arange(100).reshape(10, 10) # return an array of a given shape"
   ]
  },
  {
   "cell_type": "code",
   "execution_count": null,
   "metadata": {},
   "outputs": [],
   "source": [
    "# different ways to calculate the mean\n",
    "\n",
    "x = [1, 4, 5, 6, 8, 9]\n",
    "\n",
    "mean1 = (x[0] + x[1] + x[2] + x[3] + x[4] + x[5]) / len(x)\n",
    "\n",
    "mean2 = sum(x)/len(x)   \n",
    "\n",
    "mean3 = np.mean(x)\n",
    "\n",
    "print(mean1, mean2, mean3)\n"
   ]
  },
  {
   "cell_type": "markdown",
   "metadata": {},
   "source": [
    "_____\n",
    "Exercise: make an array of numbers from 0 to pi (using np.linspace and np.pi), and call that array 'numbers'.  Multiply that array by np.sin, and call the result 'numbers_sin'"
   ]
  },
  {
   "cell_type": "code",
   "execution_count": null,
   "metadata": {},
   "outputs": [],
   "source": []
  },
  {
   "cell_type": "markdown",
   "metadata": {},
   "source": [
    "### 2. Matplotlib"
   ]
  },
  {
   "cell_type": "code",
   "execution_count": null,
   "metadata": {},
   "outputs": [],
   "source": [
    "import matplotlib.pyplot as plt # import matplotlib\n",
    "\n",
    "%config InlineBackend.figure_format='retina'  # makes plots look nice"
   ]
  },
  {
   "cell_type": "code",
   "execution_count": null,
   "metadata": {},
   "outputs": [],
   "source": [
    "plt.plot(numbers, numbers_sin)# plots two arrays (x and y)"
   ]
  },
  {
   "cell_type": "code",
   "execution_count": null,
   "metadata": {},
   "outputs": [],
   "source": [
    "arr = np.arange(100).reshape(10, 10) # reshapes data\n",
    "plt.imshow(arr, cmap = 'magma') # plots data as an image"
   ]
  },
  {
   "cell_type": "markdown",
   "metadata": {},
   "source": [
    "____\n",
    "Exercise: make an array going from 0 to a 100, and call it nums. Square that array and call it nums_squared. \n",
    "    Plot nums vs nums_squared"
   ]
  },
  {
   "cell_type": "code",
   "execution_count": null,
   "metadata": {},
   "outputs": [],
   "source": []
  },
  {
   "cell_type": "markdown",
   "metadata": {},
   "source": [
    "### 3. Pandas, let's do some geoscience.."
   ]
  },
  {
   "cell_type": "code",
   "execution_count": null,
   "metadata": {},
   "outputs": [],
   "source": [
    "import pandas as pd"
   ]
  },
  {
   "cell_type": "code",
   "execution_count": null,
   "metadata": {
    "scrolled": true
   },
   "outputs": [],
   "source": [
    "df = pd.read_excel('data/miller_2020.xlsx') # loads an excel worksheet as a pandas dataframe"
   ]
  },
  {
   "cell_type": "code",
   "execution_count": null,
   "metadata": {},
   "outputs": [],
   "source": [
    "df.describe() # displays statistical summary of dataframe"
   ]
  },
  {
   "cell_type": "code",
   "execution_count": null,
   "metadata": {},
   "outputs": [],
   "source": [
    "df.sea_level_m.mean()"
   ]
  },
  {
   "cell_type": "code",
   "execution_count": null,
   "metadata": {},
   "outputs": [],
   "source": [
    "df['age_ma'] = df['age_ka'] / 1000"
   ]
  },
  {
   "cell_type": "code",
   "execution_count": null,
   "metadata": {
    "scrolled": true
   },
   "outputs": [],
   "source": [
    "plt.plot(df.age_ma, df.sea_level_m)"
   ]
  },
  {
   "cell_type": "code",
   "execution_count": null,
   "metadata": {},
   "outputs": [],
   "source": [
    "low_sea = df[df.sea_level_m < 0] # filters dataframe based on condition\n",
    "low_sea = df[df.sea_level_m.between(-120, 0)] # filters dataframe between values"
   ]
  },
  {
   "cell_type": "markdown",
   "metadata": {},
   "source": [
    "____\n",
    "Exercise: make a new dataframe called 'high_sea' filtering the data by sea-levels > 50 m. Plot a scatter graph of high_sea versus time."
   ]
  },
  {
   "cell_type": "code",
   "execution_count": null,
   "metadata": {},
   "outputs": [],
   "source": []
  },
  {
   "cell_type": "markdown",
   "metadata": {},
   "source": [
    "### 4. Seaborn "
   ]
  },
  {
   "cell_type": "code",
   "execution_count": null,
   "metadata": {},
   "outputs": [],
   "source": [
    "import seaborn as sns"
   ]
  },
  {
   "cell_type": "code",
   "execution_count": null,
   "metadata": {},
   "outputs": [],
   "source": [
    "oligo = df[df.age_ma.between(23, 33.9)] "
   ]
  },
  {
   "cell_type": "code",
   "execution_count": null,
   "metadata": {},
   "outputs": [],
   "source": [
    "sns.kdeplot(oligo.sea_level_m) # plots distribution of the data"
   ]
  },
  {
   "cell_type": "markdown",
   "metadata": {},
   "source": [
    "____\n",
    "Exercise: a) plot the distribution of Paleocene sea-levels using pandas and seaborn (66-56 Ma), b) plot the distribution of Paleocene and Oligocene on the same plot.\n",
    "\n",
    "TIP: Run all of your kdeplot functions in the same cell.."
   ]
  },
  {
   "cell_type": "code",
   "execution_count": 1,
   "metadata": {},
   "outputs": [],
   "source": []
  }
 ],
 "metadata": {
  "kernelspec": {
   "display_name": "general",
   "language": "python",
   "name": "general"
  },
  "language_info": {
   "codemirror_mode": {
    "name": "ipython",
    "version": 3
   },
   "file_extension": ".py",
   "mimetype": "text/x-python",
   "name": "python",
   "nbconvert_exporter": "python",
   "pygments_lexer": "ipython3",
   "version": "3.7.12"
  }
 },
 "nbformat": 4,
 "nbformat_minor": 4
}
